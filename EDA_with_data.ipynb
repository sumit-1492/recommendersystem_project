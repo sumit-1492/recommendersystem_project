{
 "cells": [
  {
   "cell_type": "code",
   "execution_count": 1,
   "id": "0fdceaa1",
   "metadata": {},
   "outputs": [],
   "source": [
    "import pandas as pd"
   ]
  },
  {
   "cell_type": "markdown",
   "id": "b0be1802",
   "metadata": {},
   "source": [
    "# Reading the data"
   ]
  },
  {
   "cell_type": "code",
   "execution_count": 4,
   "id": "61226807",
   "metadata": {},
   "outputs": [],
   "source": [
    "df_content = pd.read_csv(\"content.csv\")\n",
    "df_topic = pd.read_csv(\"topics.csv\")\n",
    "df_corr = pd.read_csv(\"correlations.csv\")"
   ]
  },
  {
   "cell_type": "code",
   "execution_count": 6,
   "id": "a3c388a8",
   "metadata": {},
   "outputs": [
    {
     "data": {
      "text/html": [
       "<div>\n",
       "<style scoped>\n",
       "    .dataframe tbody tr th:only-of-type {\n",
       "        vertical-align: middle;\n",
       "    }\n",
       "\n",
       "    .dataframe tbody tr th {\n",
       "        vertical-align: top;\n",
       "    }\n",
       "\n",
       "    .dataframe thead th {\n",
       "        text-align: right;\n",
       "    }\n",
       "</style>\n",
       "<table border=\"1\" class=\"dataframe\">\n",
       "  <thead>\n",
       "    <tr style=\"text-align: right;\">\n",
       "      <th></th>\n",
       "      <th>id</th>\n",
       "      <th>title</th>\n",
       "      <th>description</th>\n",
       "      <th>kind</th>\n",
       "      <th>text</th>\n",
       "      <th>language</th>\n",
       "      <th>copyright_holder</th>\n",
       "      <th>license</th>\n",
       "    </tr>\n",
       "  </thead>\n",
       "  <tbody>\n",
       "    <tr>\n",
       "      <th>0</th>\n",
       "      <td>c_00002381196d</td>\n",
       "      <td>Sumar números de varios dígitos: 48,029+233,930</td>\n",
       "      <td>Suma 48,029+233,930 mediante el algoritmo está...</td>\n",
       "      <td>video</td>\n",
       "      <td>NaN</td>\n",
       "      <td>es</td>\n",
       "      <td>NaN</td>\n",
       "      <td>NaN</td>\n",
       "    </tr>\n",
       "    <tr>\n",
       "      <th>1</th>\n",
       "      <td>c_000087304a9e</td>\n",
       "      <td>Trovare i fattori di un numero</td>\n",
       "      <td>Sal trova i fattori di 120.\\n\\n</td>\n",
       "      <td>video</td>\n",
       "      <td>NaN</td>\n",
       "      <td>it</td>\n",
       "      <td>NaN</td>\n",
       "      <td>NaN</td>\n",
       "    </tr>\n",
       "    <tr>\n",
       "      <th>2</th>\n",
       "      <td>c_0000ad142ddb</td>\n",
       "      <td>Sumar curvas de demanda</td>\n",
       "      <td>Cómo añadir curvas de demanda\\n\\n</td>\n",
       "      <td>video</td>\n",
       "      <td>NaN</td>\n",
       "      <td>es</td>\n",
       "      <td>NaN</td>\n",
       "      <td>NaN</td>\n",
       "    </tr>\n",
       "    <tr>\n",
       "      <th>3</th>\n",
       "      <td>c_0000c03adc8d</td>\n",
       "      <td>Nado de aproximação</td>\n",
       "      <td>Neste vídeo você vai aprender o nado de aproxi...</td>\n",
       "      <td>document</td>\n",
       "      <td>\\nNado de aproximação\\nSaber nadar nas ondas ...</td>\n",
       "      <td>pt</td>\n",
       "      <td>Sikana Education</td>\n",
       "      <td>CC BY-NC-ND</td>\n",
       "    </tr>\n",
       "    <tr>\n",
       "      <th>4</th>\n",
       "      <td>c_00016694ea2a</td>\n",
       "      <td>geometry-m3-topic-a-overview.pdf</td>\n",
       "      <td>geometry-m3-topic-a-overview.pdf</td>\n",
       "      <td>document</td>\n",
       "      <td>Estándares Comunes del Estado de Nueva York\\n\\...</td>\n",
       "      <td>es</td>\n",
       "      <td>Engage NY</td>\n",
       "      <td>CC BY-NC-SA</td>\n",
       "    </tr>\n",
       "  </tbody>\n",
       "</table>\n",
       "</div>"
      ],
      "text/plain": [
       "               id                                             title  \\\n",
       "0  c_00002381196d  Sumar números de varios dígitos: 48,029+233,930    \n",
       "1  c_000087304a9e                    Trovare i fattori di un numero   \n",
       "2  c_0000ad142ddb                           Sumar curvas de demanda   \n",
       "3  c_0000c03adc8d                               Nado de aproximação   \n",
       "4  c_00016694ea2a                  geometry-m3-topic-a-overview.pdf   \n",
       "\n",
       "                                         description      kind  \\\n",
       "0  Suma 48,029+233,930 mediante el algoritmo está...     video   \n",
       "1                    Sal trova i fattori di 120.\\n\\n     video   \n",
       "2                  Cómo añadir curvas de demanda\\n\\n     video   \n",
       "3  Neste vídeo você vai aprender o nado de aproxi...  document   \n",
       "4                   geometry-m3-topic-a-overview.pdf  document   \n",
       "\n",
       "                                                text language  \\\n",
       "0                                                NaN       es   \n",
       "1                                                NaN       it   \n",
       "2                                                NaN       es   \n",
       "3  \\nNado de aproximação\\nSaber nadar nas ondas ...       pt   \n",
       "4  Estándares Comunes del Estado de Nueva York\\n\\...       es   \n",
       "\n",
       "   copyright_holder      license  \n",
       "0               NaN          NaN  \n",
       "1               NaN          NaN  \n",
       "2               NaN          NaN  \n",
       "3  Sikana Education  CC BY-NC-ND  \n",
       "4         Engage NY  CC BY-NC-SA  "
      ]
     },
     "execution_count": 6,
     "metadata": {},
     "output_type": "execute_result"
    }
   ],
   "source": [
    "df_content.head()"
   ]
  },
  {
   "cell_type": "code",
   "execution_count": 8,
   "id": "d700dc61",
   "metadata": {},
   "outputs": [
    {
     "data": {
      "text/html": [
       "<div>\n",
       "<style scoped>\n",
       "    .dataframe tbody tr th:only-of-type {\n",
       "        vertical-align: middle;\n",
       "    }\n",
       "\n",
       "    .dataframe tbody tr th {\n",
       "        vertical-align: top;\n",
       "    }\n",
       "\n",
       "    .dataframe thead th {\n",
       "        text-align: right;\n",
       "    }\n",
       "</style>\n",
       "<table border=\"1\" class=\"dataframe\">\n",
       "  <thead>\n",
       "    <tr style=\"text-align: right;\">\n",
       "      <th></th>\n",
       "      <th>id</th>\n",
       "      <th>title</th>\n",
       "      <th>description</th>\n",
       "      <th>channel</th>\n",
       "      <th>category</th>\n",
       "      <th>level</th>\n",
       "      <th>language</th>\n",
       "      <th>parent</th>\n",
       "      <th>has_content</th>\n",
       "    </tr>\n",
       "  </thead>\n",
       "  <tbody>\n",
       "    <tr>\n",
       "      <th>0</th>\n",
       "      <td>t_00004da3a1b2</td>\n",
       "      <td>Откриването на резисторите</td>\n",
       "      <td>Изследване на материали, които предизвикват на...</td>\n",
       "      <td>000cf7</td>\n",
       "      <td>source</td>\n",
       "      <td>4</td>\n",
       "      <td>bg</td>\n",
       "      <td>t_16e29365b50d</td>\n",
       "      <td>True</td>\n",
       "    </tr>\n",
       "    <tr>\n",
       "      <th>1</th>\n",
       "      <td>t_000095e03056</td>\n",
       "      <td>Unit 3.3 Enlargements and Similarities</td>\n",
       "      <td>NaN</td>\n",
       "      <td>b3f329</td>\n",
       "      <td>aligned</td>\n",
       "      <td>2</td>\n",
       "      <td>en</td>\n",
       "      <td>t_aa32fb6252dc</td>\n",
       "      <td>False</td>\n",
       "    </tr>\n",
       "    <tr>\n",
       "      <th>2</th>\n",
       "      <td>t_00068291e9a4</td>\n",
       "      <td>Entradas e saídas de uma função</td>\n",
       "      <td>Entenda um pouco mais sobre funções.</td>\n",
       "      <td>8e286a</td>\n",
       "      <td>source</td>\n",
       "      <td>4</td>\n",
       "      <td>pt</td>\n",
       "      <td>t_d14b6c2a2b70</td>\n",
       "      <td>True</td>\n",
       "    </tr>\n",
       "    <tr>\n",
       "      <th>3</th>\n",
       "      <td>t_00069b63a70a</td>\n",
       "      <td>Transcripts</td>\n",
       "      <td>NaN</td>\n",
       "      <td>6e3ba4</td>\n",
       "      <td>source</td>\n",
       "      <td>3</td>\n",
       "      <td>en</td>\n",
       "      <td>t_4054df11a74e</td>\n",
       "      <td>True</td>\n",
       "    </tr>\n",
       "    <tr>\n",
       "      <th>4</th>\n",
       "      <td>t_0006d41a73a8</td>\n",
       "      <td>Графики на експоненциални функции (Алгебра 2 н...</td>\n",
       "      <td>Научи повече за графиките на сложните показате...</td>\n",
       "      <td>000cf7</td>\n",
       "      <td>source</td>\n",
       "      <td>4</td>\n",
       "      <td>bg</td>\n",
       "      <td>t_e2452e21d252</td>\n",
       "      <td>True</td>\n",
       "    </tr>\n",
       "  </tbody>\n",
       "</table>\n",
       "</div>"
      ],
      "text/plain": [
       "               id                                              title  \\\n",
       "0  t_00004da3a1b2                         Откриването на резисторите   \n",
       "1  t_000095e03056             Unit 3.3 Enlargements and Similarities   \n",
       "2  t_00068291e9a4                    Entradas e saídas de uma função   \n",
       "3  t_00069b63a70a                                        Transcripts   \n",
       "4  t_0006d41a73a8  Графики на експоненциални функции (Алгебра 2 н...   \n",
       "\n",
       "                                         description channel category  level  \\\n",
       "0  Изследване на материали, които предизвикват на...  000cf7   source      4   \n",
       "1                                                NaN  b3f329  aligned      2   \n",
       "2               Entenda um pouco mais sobre funções.  8e286a   source      4   \n",
       "3                                                NaN  6e3ba4   source      3   \n",
       "4  Научи повече за графиките на сложните показате...  000cf7   source      4   \n",
       "\n",
       "  language          parent  has_content  \n",
       "0       bg  t_16e29365b50d         True  \n",
       "1       en  t_aa32fb6252dc        False  \n",
       "2       pt  t_d14b6c2a2b70         True  \n",
       "3       en  t_4054df11a74e         True  \n",
       "4       bg  t_e2452e21d252         True  "
      ]
     },
     "execution_count": 8,
     "metadata": {},
     "output_type": "execute_result"
    }
   ],
   "source": [
    "df_topic.head()"
   ]
  },
  {
   "cell_type": "code",
   "execution_count": 9,
   "id": "57615bc0",
   "metadata": {},
   "outputs": [
    {
     "data": {
      "text/html": [
       "<div>\n",
       "<style scoped>\n",
       "    .dataframe tbody tr th:only-of-type {\n",
       "        vertical-align: middle;\n",
       "    }\n",
       "\n",
       "    .dataframe tbody tr th {\n",
       "        vertical-align: top;\n",
       "    }\n",
       "\n",
       "    .dataframe thead th {\n",
       "        text-align: right;\n",
       "    }\n",
       "</style>\n",
       "<table border=\"1\" class=\"dataframe\">\n",
       "  <thead>\n",
       "    <tr style=\"text-align: right;\">\n",
       "      <th></th>\n",
       "      <th>topic_id</th>\n",
       "      <th>content_ids</th>\n",
       "    </tr>\n",
       "  </thead>\n",
       "  <tbody>\n",
       "    <tr>\n",
       "      <th>0</th>\n",
       "      <td>t_00004da3a1b2</td>\n",
       "      <td>c_1108dd0c7a5d c_376c5a8eb028 c_5bc0e1e2cba0 c...</td>\n",
       "    </tr>\n",
       "    <tr>\n",
       "      <th>1</th>\n",
       "      <td>t_00068291e9a4</td>\n",
       "      <td>c_639ea2ef9c95 c_89ce9367be10 c_ac1672cdcd2c c...</td>\n",
       "    </tr>\n",
       "    <tr>\n",
       "      <th>2</th>\n",
       "      <td>t_00069b63a70a</td>\n",
       "      <td>c_11a1dc0bfb99</td>\n",
       "    </tr>\n",
       "    <tr>\n",
       "      <th>3</th>\n",
       "      <td>t_0006d41a73a8</td>\n",
       "      <td>c_0c6473c3480d c_1c57a1316568 c_5e375cf14c47 c...</td>\n",
       "    </tr>\n",
       "    <tr>\n",
       "      <th>4</th>\n",
       "      <td>t_0008768bdee6</td>\n",
       "      <td>c_34e1424229b4 c_7d1a964d66d5 c_aab93ee667f4</td>\n",
       "    </tr>\n",
       "  </tbody>\n",
       "</table>\n",
       "</div>"
      ],
      "text/plain": [
       "         topic_id                                        content_ids\n",
       "0  t_00004da3a1b2  c_1108dd0c7a5d c_376c5a8eb028 c_5bc0e1e2cba0 c...\n",
       "1  t_00068291e9a4  c_639ea2ef9c95 c_89ce9367be10 c_ac1672cdcd2c c...\n",
       "2  t_00069b63a70a                                     c_11a1dc0bfb99\n",
       "3  t_0006d41a73a8  c_0c6473c3480d c_1c57a1316568 c_5e375cf14c47 c...\n",
       "4  t_0008768bdee6       c_34e1424229b4 c_7d1a964d66d5 c_aab93ee667f4"
      ]
     },
     "execution_count": 9,
     "metadata": {},
     "output_type": "execute_result"
    }
   ],
   "source": [
    "df_corr.head()"
   ]
  },
  {
   "cell_type": "code",
   "execution_count": 10,
   "id": "db105b30",
   "metadata": {},
   "outputs": [
    {
     "data": {
      "text/plain": [
       "((154047, 8), (76972, 9), (61517, 2))"
      ]
     },
     "execution_count": 10,
     "metadata": {},
     "output_type": "execute_result"
    }
   ],
   "source": [
    "df_content.shape,df_topic.shape,df_corr.shape"
   ]
  },
  {
   "cell_type": "code",
   "execution_count": 12,
   "id": "8872a998",
   "metadata": {},
   "outputs": [
    {
     "data": {
      "text/plain": [
       "(306850, 42192, 0)"
      ]
     },
     "execution_count": 12,
     "metadata": {},
     "output_type": "execute_result"
    }
   ],
   "source": [
    "df_content.isna().sum().sum(),df_topic.isna().sum().sum(),df_corr.isna().sum().sum()"
   ]
  },
  {
   "cell_type": "markdown",
   "id": "2cc076be",
   "metadata": {},
   "source": [
    "# checking which features contains nan values"
   ]
  },
  {
   "cell_type": "code",
   "execution_count": 14,
   "id": "737ac637",
   "metadata": {},
   "outputs": [
    {
     "data": {
      "text/plain": [
       "['title', 'description', 'text', 'copyright_holder', 'license']"
      ]
     },
     "execution_count": 14,
     "metadata": {},
     "output_type": "execute_result"
    }
   ],
   "source": [
    "[feature for feature in df_content.columns if df_content[feature].isna().sum()>0]"
   ]
  },
  {
   "cell_type": "code",
   "execution_count": 16,
   "id": "f5626713",
   "metadata": {},
   "outputs": [
    {
     "data": {
      "text/plain": [
       "['title', 'description', 'parent']"
      ]
     },
     "execution_count": 16,
     "metadata": {},
     "output_type": "execute_result"
    }
   ],
   "source": [
    "[feature for feature in df_topic.columns if df_topic[feature].isna().sum()>0]"
   ]
  },
  {
   "cell_type": "code",
   "execution_count": 17,
   "id": "f3d0dbab",
   "metadata": {},
   "outputs": [
    {
     "data": {
      "text/plain": [
       "[]"
      ]
     },
     "execution_count": 17,
     "metadata": {},
     "output_type": "execute_result"
    }
   ],
   "source": [
    "[feature for feature in df_corr.columns if df_corr[feature].isna().sum()>0]"
   ]
  },
  {
   "cell_type": "code",
   "execution_count": 18,
   "id": "3b3f38a7",
   "metadata": {},
   "outputs": [
    {
     "name": "stdout",
     "output_type": "stream",
     "text": [
      "<class 'pandas.core.frame.DataFrame'>\n",
      "RangeIndex: 154047 entries, 0 to 154046\n",
      "Data columns (total 8 columns):\n",
      " #   Column            Non-Null Count   Dtype \n",
      "---  ------            --------------   ----- \n",
      " 0   id                154047 non-null  object\n",
      " 1   title             154038 non-null  object\n",
      " 2   description       89456 non-null   object\n",
      " 3   kind              154047 non-null  object\n",
      " 4   text              74035 non-null   object\n",
      " 5   language          154047 non-null  object\n",
      " 6   copyright_holder  71821 non-null   object\n",
      " 7   license           74035 non-null   object\n",
      "dtypes: object(8)\n",
      "memory usage: 9.4+ MB\n"
     ]
    }
   ],
   "source": [
    "df_content.info()"
   ]
  },
  {
   "cell_type": "markdown",
   "id": "6be343ec",
   "metadata": {},
   "source": [
    "description,text,copyright_holder,license has missing values"
   ]
  },
  {
   "cell_type": "code",
   "execution_count": 19,
   "id": "d6ea7315",
   "metadata": {},
   "outputs": [
    {
     "name": "stdout",
     "output_type": "stream",
     "text": [
      "<class 'pandas.core.frame.DataFrame'>\n",
      "RangeIndex: 76972 entries, 0 to 76971\n",
      "Data columns (total 9 columns):\n",
      " #   Column       Non-Null Count  Dtype \n",
      "---  ------       --------------  ----- \n",
      " 0   id           76972 non-null  object\n",
      " 1   title        76970 non-null  object\n",
      " 2   description  34953 non-null  object\n",
      " 3   channel      76972 non-null  object\n",
      " 4   category     76972 non-null  object\n",
      " 5   level        76972 non-null  int64 \n",
      " 6   language     76972 non-null  object\n",
      " 7   parent       76801 non-null  object\n",
      " 8   has_content  76972 non-null  bool  \n",
      "dtypes: bool(1), int64(1), object(7)\n",
      "memory usage: 4.8+ MB\n"
     ]
    }
   ],
   "source": [
    "df_topic.info()"
   ]
  },
  {
   "cell_type": "markdown",
   "id": "8077bc15",
   "metadata": {},
   "source": [
    "title,description and parent has missing values"
   ]
  },
  {
   "cell_type": "markdown",
   "id": "ea3133e4",
   "metadata": {},
   "source": [
    "# Handling nan and missing value in content dataframe"
   ]
  },
  {
   "cell_type": "code",
   "execution_count": 21,
   "id": "f10ce27c",
   "metadata": {},
   "outputs": [
    {
     "data": {
      "text/plain": [
       "(154047, 8)"
      ]
     },
     "execution_count": 21,
     "metadata": {},
     "output_type": "execute_result"
    }
   ],
   "source": [
    "df_content.shape"
   ]
  },
  {
   "cell_type": "code",
   "execution_count": 20,
   "id": "f97ca092",
   "metadata": {},
   "outputs": [
    {
     "data": {
      "text/plain": [
       "id                      0\n",
       "title                   9\n",
       "description         64591\n",
       "kind                    0\n",
       "text                80012\n",
       "language                0\n",
       "copyright_holder    82226\n",
       "license             80012\n",
       "dtype: int64"
      ]
     },
     "execution_count": 20,
     "metadata": {},
     "output_type": "execute_result"
    }
   ],
   "source": [
    "df_content.isna().sum()"
   ]
  },
  {
   "cell_type": "code",
   "execution_count": 23,
   "id": "783938b5",
   "metadata": {},
   "outputs": [
    {
     "data": {
      "text/html": [
       "<div>\n",
       "<style scoped>\n",
       "    .dataframe tbody tr th:only-of-type {\n",
       "        vertical-align: middle;\n",
       "    }\n",
       "\n",
       "    .dataframe tbody tr th {\n",
       "        vertical-align: top;\n",
       "    }\n",
       "\n",
       "    .dataframe thead th {\n",
       "        text-align: right;\n",
       "    }\n",
       "</style>\n",
       "<table border=\"1\" class=\"dataframe\">\n",
       "  <thead>\n",
       "    <tr style=\"text-align: right;\">\n",
       "      <th></th>\n",
       "      <th>id</th>\n",
       "      <th>title</th>\n",
       "      <th>description</th>\n",
       "      <th>kind</th>\n",
       "      <th>text</th>\n",
       "      <th>language</th>\n",
       "      <th>copyright_holder</th>\n",
       "      <th>license</th>\n",
       "    </tr>\n",
       "  </thead>\n",
       "  <tbody>\n",
       "  </tbody>\n",
       "</table>\n",
       "</div>"
      ],
      "text/plain": [
       "Empty DataFrame\n",
       "Columns: [id, title, description, kind, text, language, copyright_holder, license]\n",
       "Index: []"
      ]
     },
     "execution_count": 23,
     "metadata": {},
     "output_type": "execute_result"
    }
   ],
   "source": [
    "#lets check wheather title,description and text column has null values or not in any sample\n",
    "df_content[df_content[['title','description','text']].isnull().all(axis=1)]"
   ]
  },
  {
   "cell_type": "markdown",
   "id": "3b382a5c",
   "metadata": {},
   "source": [
    "# so we confirm that no such samples where these three features are common nan values.\n",
    "if its there then we have to delete that sample"
   ]
  },
  {
   "cell_type": "code",
   "execution_count": 29,
   "id": "e40854df",
   "metadata": {},
   "outputs": [],
   "source": [
    "df_content = df_content.dropna(subset = ['title','description','text'],how='all')"
   ]
  },
  {
   "cell_type": "code",
   "execution_count": 30,
   "id": "f0443d7a",
   "metadata": {},
   "outputs": [
    {
     "data": {
      "text/plain": [
       "(154047, 8)"
      ]
     },
     "execution_count": 30,
     "metadata": {},
     "output_type": "execute_result"
    }
   ],
   "source": [
    "df_content.shape"
   ]
  },
  {
   "cell_type": "code",
   "execution_count": 31,
   "id": "8c4ec49e",
   "metadata": {},
   "outputs": [
    {
     "data": {
      "text/html": [
       "<div>\n",
       "<style scoped>\n",
       "    .dataframe tbody tr th:only-of-type {\n",
       "        vertical-align: middle;\n",
       "    }\n",
       "\n",
       "    .dataframe tbody tr th {\n",
       "        vertical-align: top;\n",
       "    }\n",
       "\n",
       "    .dataframe thead th {\n",
       "        text-align: right;\n",
       "    }\n",
       "</style>\n",
       "<table border=\"1\" class=\"dataframe\">\n",
       "  <thead>\n",
       "    <tr style=\"text-align: right;\">\n",
       "      <th></th>\n",
       "      <th>id</th>\n",
       "      <th>title</th>\n",
       "      <th>description</th>\n",
       "      <th>kind</th>\n",
       "      <th>text</th>\n",
       "      <th>language</th>\n",
       "      <th>copyright_holder</th>\n",
       "      <th>license</th>\n",
       "    </tr>\n",
       "  </thead>\n",
       "  <tbody>\n",
       "    <tr>\n",
       "      <th>36142</th>\n",
       "      <td>c_3c070b63a944</td>\n",
       "      <td>NaN</td>\n",
       "      <td>NaN</td>\n",
       "      <td>document</td>\n",
       "      <td>Palabra de caballero\\nPalabra de caballero\\n\"P...</td>\n",
       "      <td>es</td>\n",
       "      <td>Centro Nacional de Desarrollo Curricular en Si...</td>\n",
       "      <td>CC BY-SA</td>\n",
       "    </tr>\n",
       "    <tr>\n",
       "      <th>71510</th>\n",
       "      <td>c_77105b4b84cc</td>\n",
       "      <td>NaN</td>\n",
       "      <td>NaN</td>\n",
       "      <td>document</td>\n",
       "      <td>Un espíritu revestido de piel humana\\nUn espír...</td>\n",
       "      <td>es</td>\n",
       "      <td>Centro Nacional de Desarrollo Curricular en Si...</td>\n",
       "      <td>CC BY-SA</td>\n",
       "    </tr>\n",
       "    <tr>\n",
       "      <th>81818</th>\n",
       "      <td>c_87e171afe50b</td>\n",
       "      <td>NaN</td>\n",
       "      <td>NaN</td>\n",
       "      <td>document</td>\n",
       "      <td>La curiosidad es saludable\\nLa curiosidad es s...</td>\n",
       "      <td>es</td>\n",
       "      <td>Centro Nacional de Desarrollo Curricular en Si...</td>\n",
       "      <td>CC BY-SA</td>\n",
       "    </tr>\n",
       "    <tr>\n",
       "      <th>96490</th>\n",
       "      <td>c_a04562126266</td>\n",
       "      <td>NaN</td>\n",
       "      <td>NaN</td>\n",
       "      <td>document</td>\n",
       "      <td>Para provecho y deleite\\nPara provecho y delei...</td>\n",
       "      <td>es</td>\n",
       "      <td>Centro Nacional de Desarrollo Curricular en Si...</td>\n",
       "      <td>CC BY-SA</td>\n",
       "    </tr>\n",
       "    <tr>\n",
       "      <th>132178</th>\n",
       "      <td>c_db7818729577</td>\n",
       "      <td>NaN</td>\n",
       "      <td>NaN</td>\n",
       "      <td>document</td>\n",
       "      <td>Historia inicial\\nHistoria inicial\\n-\\tY pasan...</td>\n",
       "      <td>es</td>\n",
       "      <td>Centro Nacional de Desarrollo Curricular en Si...</td>\n",
       "      <td>CC BY-SA</td>\n",
       "    </tr>\n",
       "    <tr>\n",
       "      <th>144353</th>\n",
       "      <td>c_efb73ad83f4b</td>\n",
       "      <td>NaN</td>\n",
       "      <td>NaN</td>\n",
       "      <td>document</td>\n",
       "      <td>Orientaciones para el profesorado\\nOrientacion...</td>\n",
       "      <td>es</td>\n",
       "      <td>Centro Nacional de Desarrollo Curricular en Si...</td>\n",
       "      <td>CC BY-SA</td>\n",
       "    </tr>\n",
       "  </tbody>\n",
       "</table>\n",
       "</div>"
      ],
      "text/plain": [
       "                    id title description      kind  \\\n",
       "36142   c_3c070b63a944   NaN         NaN  document   \n",
       "71510   c_77105b4b84cc   NaN         NaN  document   \n",
       "81818   c_87e171afe50b   NaN         NaN  document   \n",
       "96490   c_a04562126266   NaN         NaN  document   \n",
       "132178  c_db7818729577   NaN         NaN  document   \n",
       "144353  c_efb73ad83f4b   NaN         NaN  document   \n",
       "\n",
       "                                                     text language  \\\n",
       "36142   Palabra de caballero\\nPalabra de caballero\\n\"P...       es   \n",
       "71510   Un espíritu revestido de piel humana\\nUn espír...       es   \n",
       "81818   La curiosidad es saludable\\nLa curiosidad es s...       es   \n",
       "96490   Para provecho y deleite\\nPara provecho y delei...       es   \n",
       "132178  Historia inicial\\nHistoria inicial\\n-\\tY pasan...       es   \n",
       "144353  Orientaciones para el profesorado\\nOrientacion...       es   \n",
       "\n",
       "                                         copyright_holder   license  \n",
       "36142   Centro Nacional de Desarrollo Curricular en Si...  CC BY-SA  \n",
       "71510   Centro Nacional de Desarrollo Curricular en Si...  CC BY-SA  \n",
       "81818   Centro Nacional de Desarrollo Curricular en Si...  CC BY-SA  \n",
       "96490   Centro Nacional de Desarrollo Curricular en Si...  CC BY-SA  \n",
       "132178  Centro Nacional de Desarrollo Curricular en Si...  CC BY-SA  \n",
       "144353  Centro Nacional de Desarrollo Curricular en Si...  CC BY-SA  "
      ]
     },
     "execution_count": 31,
     "metadata": {},
     "output_type": "execute_result"
    }
   ],
   "source": [
    "## checking title and decription\n",
    "df_content[df_content[['title','description']].isnull().all(axis=1)]"
   ]
  },
  {
   "cell_type": "markdown",
   "id": "caf8879b",
   "metadata": {},
   "source": [
    "# there are 6 samples where title and description has null values"
   ]
  },
  {
   "cell_type": "code",
   "execution_count": 32,
   "id": "caf84280",
   "metadata": {},
   "outputs": [],
   "source": [
    "# replace title column text values where the title is NAN\n",
    "\n",
    "df_content['new_val'] = df_content.apply(lambda x: x['text'] if pd.isnull(x['title']) else x['title'], axis=1)\n",
    "df_content['title']  = df_content['title'].fillna(df_content['new_val'].str[:30])\n",
    "df_content = df_content.drop('new_val', axis=1)"
   ]
  },
  {
   "cell_type": "code",
   "execution_count": 33,
   "id": "566f6a02",
   "metadata": {},
   "outputs": [
    {
     "data": {
      "text/html": [
       "<div>\n",
       "<style scoped>\n",
       "    .dataframe tbody tr th:only-of-type {\n",
       "        vertical-align: middle;\n",
       "    }\n",
       "\n",
       "    .dataframe tbody tr th {\n",
       "        vertical-align: top;\n",
       "    }\n",
       "\n",
       "    .dataframe thead th {\n",
       "        text-align: right;\n",
       "    }\n",
       "</style>\n",
       "<table border=\"1\" class=\"dataframe\">\n",
       "  <thead>\n",
       "    <tr style=\"text-align: right;\">\n",
       "      <th></th>\n",
       "      <th>id</th>\n",
       "      <th>title</th>\n",
       "      <th>description</th>\n",
       "      <th>kind</th>\n",
       "      <th>text</th>\n",
       "      <th>language</th>\n",
       "      <th>copyright_holder</th>\n",
       "      <th>license</th>\n",
       "    </tr>\n",
       "  </thead>\n",
       "  <tbody>\n",
       "    <tr>\n",
       "      <th>36142</th>\n",
       "      <td>c_3c070b63a944</td>\n",
       "      <td>Palabra de caballero\\nPalabra d</td>\n",
       "      <td>NaN</td>\n",
       "      <td>document</td>\n",
       "      <td>Palabra de caballero\\nPalabra de caballero\\n\"P...</td>\n",
       "      <td>es</td>\n",
       "      <td>Centro Nacional de Desarrollo Curricular en Si...</td>\n",
       "      <td>CC BY-SA</td>\n",
       "    </tr>\n",
       "  </tbody>\n",
       "</table>\n",
       "</div>"
      ],
      "text/plain": [
       "                   id                            title description      kind  \\\n",
       "36142  c_3c070b63a944  Palabra de caballero\\nPalabra d         NaN  document   \n",
       "\n",
       "                                                    text language  \\\n",
       "36142  Palabra de caballero\\nPalabra de caballero\\n\"P...       es   \n",
       "\n",
       "                                        copyright_holder   license  \n",
       "36142  Centro Nacional de Desarrollo Curricular en Si...  CC BY-SA  "
      ]
     },
     "execution_count": 33,
     "metadata": {},
     "output_type": "execute_result"
    }
   ],
   "source": [
    "df_content.iloc[[36142]]"
   ]
  },
  {
   "cell_type": "code",
   "execution_count": 37,
   "id": "d67f3ac3",
   "metadata": {},
   "outputs": [
    {
     "data": {
      "text/html": [
       "<div>\n",
       "<style scoped>\n",
       "    .dataframe tbody tr th:only-of-type {\n",
       "        vertical-align: middle;\n",
       "    }\n",
       "\n",
       "    .dataframe tbody tr th {\n",
       "        vertical-align: top;\n",
       "    }\n",
       "\n",
       "    .dataframe thead th {\n",
       "        text-align: right;\n",
       "    }\n",
       "</style>\n",
       "<table border=\"1\" class=\"dataframe\">\n",
       "  <thead>\n",
       "    <tr style=\"text-align: right;\">\n",
       "      <th></th>\n",
       "      <th>id</th>\n",
       "      <th>title</th>\n",
       "      <th>description</th>\n",
       "      <th>kind</th>\n",
       "      <th>text</th>\n",
       "      <th>language</th>\n",
       "      <th>copyright_holder</th>\n",
       "      <th>license</th>\n",
       "    </tr>\n",
       "  </thead>\n",
       "  <tbody>\n",
       "    <tr>\n",
       "      <th>14</th>\n",
       "      <td>c_00068709797c</td>\n",
       "      <td>Kuhesabu vizio mraba kutafuta kanuni ya eneo</td>\n",
       "      <td>Sal anatumia kizio mraba kuona kwa nini kuzidi...</td>\n",
       "      <td>video</td>\n",
       "      <td>Nina mistatili mitatu hapa, na pia nina vipimo...</td>\n",
       "      <td>sw</td>\n",
       "      <td>Khan Academy</td>\n",
       "      <td>CC BY-NC-SA</td>\n",
       "    </tr>\n",
       "  </tbody>\n",
       "</table>\n",
       "</div>"
      ],
      "text/plain": [
       "                id                                         title  \\\n",
       "14  c_00068709797c  Kuhesabu vizio mraba kutafuta kanuni ya eneo   \n",
       "\n",
       "                                          description   kind  \\\n",
       "14  Sal anatumia kizio mraba kuona kwa nini kuzidi...  video   \n",
       "\n",
       "                                                 text language  \\\n",
       "14  Nina mistatili mitatu hapa, na pia nina vipimo...       sw   \n",
       "\n",
       "   copyright_holder      license  \n",
       "14     Khan Academy  CC BY-NC-SA  "
      ]
     },
     "execution_count": 37,
     "metadata": {},
     "output_type": "execute_result"
    }
   ],
   "source": [
    "df_content.iloc[[14]]"
   ]
  },
  {
   "cell_type": "code",
   "execution_count": 42,
   "id": "4ed7fc17",
   "metadata": {},
   "outputs": [],
   "source": [
    "# replace description column with text values where the description is NAN\n",
    "\n",
    "df_content['new_val'] = df_content.apply(lambda x: x['text'] if pd.isnull(x['title']) else x['title'], axis=1)\n",
    "df_content['description']  = df_content['description'].fillna(df_content['new_val'].str[:30])\n",
    "df_content = df_content.drop('new_val', axis=1)"
   ]
  },
  {
   "cell_type": "code",
   "execution_count": 43,
   "id": "48a124a2",
   "metadata": {},
   "outputs": [
    {
     "data": {
      "text/html": [
       "<div>\n",
       "<style scoped>\n",
       "    .dataframe tbody tr th:only-of-type {\n",
       "        vertical-align: middle;\n",
       "    }\n",
       "\n",
       "    .dataframe tbody tr th {\n",
       "        vertical-align: top;\n",
       "    }\n",
       "\n",
       "    .dataframe thead th {\n",
       "        text-align: right;\n",
       "    }\n",
       "</style>\n",
       "<table border=\"1\" class=\"dataframe\">\n",
       "  <thead>\n",
       "    <tr style=\"text-align: right;\">\n",
       "      <th></th>\n",
       "      <th>id</th>\n",
       "      <th>title</th>\n",
       "      <th>description</th>\n",
       "      <th>kind</th>\n",
       "      <th>text</th>\n",
       "      <th>language</th>\n",
       "    </tr>\n",
       "  </thead>\n",
       "  <tbody>\n",
       "    <tr>\n",
       "      <th>36142</th>\n",
       "      <td>c_3c070b63a944</td>\n",
       "      <td>Palabra de caballero\\nPalabra d</td>\n",
       "      <td>Palabra de caballero\\nPalabra d</td>\n",
       "      <td>document</td>\n",
       "      <td>Palabra de caballero\\nPalabra de caballero\\n\"P...</td>\n",
       "      <td>es</td>\n",
       "    </tr>\n",
       "  </tbody>\n",
       "</table>\n",
       "</div>"
      ],
      "text/plain": [
       "                   id                            title  \\\n",
       "36142  c_3c070b63a944  Palabra de caballero\\nPalabra d   \n",
       "\n",
       "                           description      kind  \\\n",
       "36142  Palabra de caballero\\nPalabra d  document   \n",
       "\n",
       "                                                    text language  \n",
       "36142  Palabra de caballero\\nPalabra de caballero\\n\"P...       es  "
      ]
     },
     "execution_count": 43,
     "metadata": {},
     "output_type": "execute_result"
    }
   ],
   "source": [
    "df_content.iloc[[36142]]"
   ]
  },
  {
   "cell_type": "code",
   "execution_count": 53,
   "id": "e4b3dc84",
   "metadata": {},
   "outputs": [],
   "source": [
    "# replace text column with description values where the text is NAN\n",
    "\n",
    "df_content['new_val'] = df_content.apply(lambda x: x['description'] if pd.isnull(x['text']) else x['text'], axis=1)\n",
    "df_content['text']  = df_content['text'].fillna(df_content['new_val'].str[:30])\n",
    "df_content = df_content.drop('new_val', axis=1)"
   ]
  },
  {
   "cell_type": "code",
   "execution_count": 54,
   "id": "5c6fcab6",
   "metadata": {},
   "outputs": [
    {
     "data": {
      "text/html": [
       "<div>\n",
       "<style scoped>\n",
       "    .dataframe tbody tr th:only-of-type {\n",
       "        vertical-align: middle;\n",
       "    }\n",
       "\n",
       "    .dataframe tbody tr th {\n",
       "        vertical-align: top;\n",
       "    }\n",
       "\n",
       "    .dataframe thead th {\n",
       "        text-align: right;\n",
       "    }\n",
       "</style>\n",
       "<table border=\"1\" class=\"dataframe\">\n",
       "  <thead>\n",
       "    <tr style=\"text-align: right;\">\n",
       "      <th></th>\n",
       "      <th>id</th>\n",
       "      <th>title</th>\n",
       "      <th>description</th>\n",
       "      <th>kind</th>\n",
       "      <th>text</th>\n",
       "      <th>language</th>\n",
       "    </tr>\n",
       "  </thead>\n",
       "  <tbody>\n",
       "    <tr>\n",
       "      <th>11</th>\n",
       "      <td>c_00046806ad8a</td>\n",
       "      <td>Compare multi-digit numbers</td>\n",
       "      <td>Use your place value skills to practice compar...</td>\n",
       "      <td>exercise</td>\n",
       "      <td>Use your place value skills to</td>\n",
       "      <td>en</td>\n",
       "    </tr>\n",
       "  </tbody>\n",
       "</table>\n",
       "</div>"
      ],
      "text/plain": [
       "                id                        title  \\\n",
       "11  c_00046806ad8a  Compare multi-digit numbers   \n",
       "\n",
       "                                          description      kind  \\\n",
       "11  Use your place value skills to practice compar...  exercise   \n",
       "\n",
       "                              text language  \n",
       "11  Use your place value skills to       en  "
      ]
     },
     "execution_count": 54,
     "metadata": {},
     "output_type": "execute_result"
    }
   ],
   "source": [
    "df_content.iloc[[11]]"
   ]
  },
  {
   "cell_type": "markdown",
   "id": "5bc2e64f",
   "metadata": {},
   "source": [
    "# dropping license and copyright feature as it will not much impact on model building"
   ]
  },
  {
   "cell_type": "code",
   "execution_count": 39,
   "id": "06005c18",
   "metadata": {},
   "outputs": [
    {
     "data": {
      "text/plain": [
       "Index(['id', 'title', 'description', 'kind', 'text', 'language',\n",
       "       'copyright_holder', 'license'],\n",
       "      dtype='object')"
      ]
     },
     "execution_count": 39,
     "metadata": {},
     "output_type": "execute_result"
    }
   ],
   "source": [
    "df_content.columns"
   ]
  },
  {
   "cell_type": "code",
   "execution_count": 40,
   "id": "a581538b",
   "metadata": {},
   "outputs": [],
   "source": [
    "df_content.drop(columns = ['copyright_holder', 'license'],inplace=True)"
   ]
  },
  {
   "cell_type": "code",
   "execution_count": 41,
   "id": "f7e8634b",
   "metadata": {},
   "outputs": [
    {
     "data": {
      "text/plain": [
       "(154047, 6)"
      ]
     },
     "execution_count": 41,
     "metadata": {},
     "output_type": "execute_result"
    }
   ],
   "source": [
    "df_content.shape"
   ]
  },
  {
   "cell_type": "code",
   "execution_count": 52,
   "id": "77936ae5",
   "metadata": {},
   "outputs": [
    {
     "data": {
      "text/html": [
       "<div>\n",
       "<style scoped>\n",
       "    .dataframe tbody tr th:only-of-type {\n",
       "        vertical-align: middle;\n",
       "    }\n",
       "\n",
       "    .dataframe tbody tr th {\n",
       "        vertical-align: top;\n",
       "    }\n",
       "\n",
       "    .dataframe thead th {\n",
       "        text-align: right;\n",
       "    }\n",
       "</style>\n",
       "<table border=\"1\" class=\"dataframe\">\n",
       "  <thead>\n",
       "    <tr style=\"text-align: right;\">\n",
       "      <th></th>\n",
       "      <th>id</th>\n",
       "      <th>title</th>\n",
       "      <th>description</th>\n",
       "      <th>kind</th>\n",
       "      <th>text</th>\n",
       "      <th>language</th>\n",
       "    </tr>\n",
       "  </thead>\n",
       "  <tbody>\n",
       "    <tr>\n",
       "      <th>5</th>\n",
       "      <td>c_00019840d110</td>\n",
       "      <td>5.12E: Regulation of the Calvin Cycle</td>\n",
       "      <td>5.12E: Regulation of the Calvi</td>\n",
       "      <td>html5</td>\n",
       "      <td>LEARNING OBJECTIVES\\n\\nOutline the three major...</td>\n",
       "      <td>en</td>\n",
       "    </tr>\n",
       "    <tr>\n",
       "      <th>8</th>\n",
       "      <td>c_00027d03ca7d</td>\n",
       "      <td>4.E: Genomes and Chromosomes (Exercises)</td>\n",
       "      <td>4.E: Genomes and Chromosomes (</td>\n",
       "      <td>html5</td>\n",
       "      <td>4.3\\n\\n(BPA) Answer the following questions wi...</td>\n",
       "      <td>en</td>\n",
       "    </tr>\n",
       "    <tr>\n",
       "      <th>10</th>\n",
       "      <td>c_000425df0161</td>\n",
       "      <td>9.3: Van Der Waals Forces between Atoms</td>\n",
       "      <td>9.3: Van Der Waals Forces betw</td>\n",
       "      <td>html5</td>\n",
       "      <td>Introduction\\n\\nThe perfect gas equation of st...</td>\n",
       "      <td>en</td>\n",
       "    </tr>\n",
       "    <tr>\n",
       "      <th>11</th>\n",
       "      <td>c_00046806ad8a</td>\n",
       "      <td>Compare multi-digit numbers</td>\n",
       "      <td>Use your place value skills to practice compar...</td>\n",
       "      <td>exercise</td>\n",
       "      <td>NaN</td>\n",
       "      <td>en</td>\n",
       "    </tr>\n",
       "    <tr>\n",
       "      <th>18</th>\n",
       "      <td>c_000751f58836</td>\n",
       "      <td>Tangents of circles problem (example 2)</td>\n",
       "      <td>Sal finds a missing angle using the property t...</td>\n",
       "      <td>video</td>\n",
       "      <td>Angle A is a circumscribed angle on circle O. ...</td>\n",
       "      <td>en</td>\n",
       "    </tr>\n",
       "    <tr>\n",
       "      <th>...</th>\n",
       "      <td>...</td>\n",
       "      <td>...</td>\n",
       "      <td>...</td>\n",
       "      <td>...</td>\n",
       "      <td>...</td>\n",
       "      <td>...</td>\n",
       "    </tr>\n",
       "    <tr>\n",
       "      <th>154035</th>\n",
       "      <td>c_fffa90b024e3</td>\n",
       "      <td>Congruent Triangle Proof Example</td>\n",
       "      <td>Congruent Triangle Proof Examp</td>\n",
       "      <td>video</td>\n",
       "      <td>NaN</td>\n",
       "      <td>en</td>\n",
       "    </tr>\n",
       "    <tr>\n",
       "      <th>154041</th>\n",
       "      <td>c_fffbfc3d60c6</td>\n",
       "      <td>number_lines_mixed_positive_student writes num...</td>\n",
       "      <td>This Number Line Worksheet includes problems f...</td>\n",
       "      <td>document</td>\n",
       "      <td>NaN</td>\n",
       "      <td>en</td>\n",
       "    </tr>\n",
       "    <tr>\n",
       "      <th>154042</th>\n",
       "      <td>c_fffcbdd4de8b</td>\n",
       "      <td>2. 12: Diffusion</td>\n",
       "      <td>2. 12: Diffusion</td>\n",
       "      <td>html5</td>\n",
       "      <td>What will eventually happen to these dyes?\\n\\n...</td>\n",
       "      <td>en</td>\n",
       "    </tr>\n",
       "    <tr>\n",
       "      <th>154045</th>\n",
       "      <td>c_ffff04ba7ac7</td>\n",
       "      <td>SA of a Cone</td>\n",
       "      <td>SA of a Cone</td>\n",
       "      <td>video</td>\n",
       "      <td>NaN</td>\n",
       "      <td>en</td>\n",
       "    </tr>\n",
       "    <tr>\n",
       "      <th>154046</th>\n",
       "      <td>c_ffffe5254266</td>\n",
       "      <td>The Jats</td>\n",
       "      <td>The Jats</td>\n",
       "      <td>video</td>\n",
       "      <td>NaN</td>\n",
       "      <td>en</td>\n",
       "    </tr>\n",
       "  </tbody>\n",
       "</table>\n",
       "<p>65939 rows × 6 columns</p>\n",
       "</div>"
      ],
      "text/plain": [
       "                    id                                              title  \\\n",
       "5       c_00019840d110              5.12E: Regulation of the Calvin Cycle   \n",
       "8       c_00027d03ca7d           4.E: Genomes and Chromosomes (Exercises)   \n",
       "10      c_000425df0161            9.3: Van Der Waals Forces between Atoms   \n",
       "11      c_00046806ad8a                        Compare multi-digit numbers   \n",
       "18      c_000751f58836            Tangents of circles problem (example 2)   \n",
       "...                ...                                                ...   \n",
       "154035  c_fffa90b024e3                   Congruent Triangle Proof Example   \n",
       "154041  c_fffbfc3d60c6  number_lines_mixed_positive_student writes num...   \n",
       "154042  c_fffcbdd4de8b                                   2. 12: Diffusion   \n",
       "154045  c_ffff04ba7ac7                                       SA of a Cone   \n",
       "154046  c_ffffe5254266                                           The Jats   \n",
       "\n",
       "                                              description      kind  \\\n",
       "5                          5.12E: Regulation of the Calvi     html5   \n",
       "8                          4.E: Genomes and Chromosomes (     html5   \n",
       "10                         9.3: Van Der Waals Forces betw     html5   \n",
       "11      Use your place value skills to practice compar...  exercise   \n",
       "18      Sal finds a missing angle using the property t...     video   \n",
       "...                                                   ...       ...   \n",
       "154035                     Congruent Triangle Proof Examp     video   \n",
       "154041  This Number Line Worksheet includes problems f...  document   \n",
       "154042                                   2. 12: Diffusion     html5   \n",
       "154045                                       SA of a Cone     video   \n",
       "154046                                           The Jats     video   \n",
       "\n",
       "                                                     text language  \n",
       "5       LEARNING OBJECTIVES\\n\\nOutline the three major...       en  \n",
       "8       4.3\\n\\n(BPA) Answer the following questions wi...       en  \n",
       "10      Introduction\\n\\nThe perfect gas equation of st...       en  \n",
       "11                                                    NaN       en  \n",
       "18      Angle A is a circumscribed angle on circle O. ...       en  \n",
       "...                                                   ...      ...  \n",
       "154035                                                NaN       en  \n",
       "154041                                                NaN       en  \n",
       "154042  What will eventually happen to these dyes?\\n\\n...       en  \n",
       "154045                                                NaN       en  \n",
       "154046                                                NaN       en  \n",
       "\n",
       "[65939 rows x 6 columns]"
      ]
     },
     "execution_count": 52,
     "metadata": {},
     "output_type": "execute_result"
    }
   ],
   "source": [
    "df_content.loc[df_content['language']=='en']"
   ]
  },
  {
   "cell_type": "code",
   "execution_count": 51,
   "id": "0955129c",
   "metadata": {},
   "outputs": [
    {
     "data": {
      "text/plain": [
       "['LEARNING OBJECTIVES\\n\\nOutline the three major phases of the Calvin cycle: carbon fixation, reduction, and regeneration of ribulose\\n\\nThe Calvin cycle (https://bio.libretexts.org/Bookshelves/Biochemistry/Book%3A_Biochemistry_Free_and_Easy_(Ahern_and_Rajagopal)/07%3A_Metabolism_II/7.03%3A_Calvin_Cycle) is a process utilized to ensure carbon dioxide fixation. In this process, carbon dioxide and water are converted into organic compounds that are necessary for metabolic and cellular processes. There are various organisms that utilize the Calvin cycle for production of organic compounds including cyanobacteria and purple and green bacteria. The Calvin cycle requires various enzymes to ensure proper regulation occurs and can be divided into three major phases:\\n\\ncarbon fixation,\\n\\nreduction, and\\n\\nregeneration of ribulose.\\n\\nEach of these phases are tightly regulated and require unique and specific enzymes.\\n\\nFigure \\\\(\\\\PageIndex{1}\\\\): Overview of the Calvin cycle. An overview of the Calvin cycle and the three major phases. Image used with permission (CC SA-BY 3.0; Mike Jones (https://commons.wikimedia.org/wiki/User:Adenosine)).\\n\\nDuring the first phase of the Calvin cycle, carbon fixation occurs. The carbon dioxide is combined with ribulose 1,5-bisphosphate to form two 3-phosphoglycerate molecules (3-PG). The enzyme that catalyzes this specific reaction is ribulose bisphosphate carboxylase (RuBisCO). RuBisCO is identified as the most abundant enzyme on earth, to date. RuBisCO is the first enzyme utilized in the process of carbon fixation and its enzymatic activity is highly regulated. RuBisCO is only active during the day as its substrate, ribulose 1,5-bisphosphate, is not generated in the dark. RuBisCO enzymatic activity is regulated by numerous factors including: ions, RuBisCO activase, ATP /ADP and reduction/oxidation states, phosphate and carbon dioxide. The various factors influencing RuBisCO activity directly affect phase 1 of the Calvin cycle.\\n\\nDuring the second phase of the Calvin cycle, reduction occurs. The 3-PG molecules synthesized in phase 1 are reduced to glyceraldehyde-3-phosphate (G3P). This reducing process is mediated by both ATP and NADPH. One of the two G3P molecules formed are further converted to dihydroxyacetone phosphate (DHAP) and the enzyme aldolase is used to combine G3P and DHAP to form fructose-1,6-bisphosphate. The enzyme aldolase is typically characterized as a glycolytic enzyme with the ability to split fructose 1,6-bisphosphate into DHAP and G3P. However, in this specific phase of the Calvin cycle, it is used in reverse. Therefore, aldolase is said to regulate a reverse reaction in the Calvin cycle. Additionally, aldolase can be utilized to promote a reverse reaction in gluconeogenesis as well. The fructose-1,6-bisphosphate formed in phase 2 is then converted into fructose-6-phosphate.\\n\\nDuring the third phase of the Calvin cycle, regeneration of RuBisCO occurs. This specific phase involves a series of reactions in which there are a variety of enzymes required to ensure proper regulation. This phase is characterized by the conversion of G3P, which was produced in earlier phase, back to ribulose 1,5-bisphosphate. This process requires ATP and specific enzymes. The enzymes involved in this process include: triose phosphate isomerase, aldolase, fructose-1,6-bisphosphatase, transketolase, sedoheptulase-1,7-bisphosphatase, phosphopentose isomerase, phosphopentose epimerase, and phosphoribulokinase. The following is a brief summary of each enzyme and its role in the regeneration of ribulose 1,5-bisphosphate in the order it appears in this specific phase.\\n\\nTriose phosphate isomerase: converts all G3P molecules into DHAP\\n\\nAldolase and fructose-1,6-bisphosphatase: converts G3P and DHAP into fructose 6-phosphate\\n\\nTransketolase: removes two carbon molecules in fructose 6-phosphate to produce erythrose 4-phosphate (E4P); the two removed carbons are added to G3P to produce xylulose-5-phosphate (Xu5P)\\n\\nAldolase: converts E4P and a DHAP to sedoheptulose-1,7-bisphosphate\\n\\nSedoheptulase-1,7-bisphosphatase: cleaves the sedohetpulose-1,7-bisphosphate into sedoheptulase-7-phosphate (S7P)\\n\\nTransketolase: removes two carbons from S7P and two carbons are transferred to one of the G3P molecules producing ribose-5-phosphate (R5P)and another Xu5P\\n\\nPhosphopentose isomerase: converts the R5P into ribulose-5-phosphate (Ru5P)\\n\\nPhosphopentose epimerase: converts the Xu5P into Ru5P\\n\\nPhosphoribulokinase: phosphorylates Ru5P into ribulose-1,5-bisphosphate\\n\\nAfter this final enzyme performs this conversion, the Calvin cycle is considered complete. The regulation of the Calvin cycle requires many key enzymes to ensure proper carbon fixation.\\n\\nKey Points\\n\\nIn this process, carbon dioxide and water are converted into organic compounds that are necessary for metabolic and cellular processes.\\n\\nThe three phases of the Calvin cycle, fixation, reduction, and regeneration require specific enzymes to ensure proper regulation.\\n\\nThe last phase of the Calvin cycle, regeneration, is considered the most complex and regulated phase of the cycle.\\n\\nKey Terms\\n\\ncalvin cycle: A series of biochemical reactions that take place in the stroma of chloroplasts in photosynthetic organisms.\\n\\ngluconeogenesis: A metabolic process which glucose is formed from non-carbohydrate precursors.\\n\\nribulose: A ketopentose whose phosphate derivatives participate in photosynthesis.']"
      ]
     },
     "execution_count": 51,
     "metadata": {},
     "output_type": "execute_result"
    }
   ],
   "source": [
    "df_content.loc[df_content['language']=='en'].iloc[[0]]['text'].to_list()"
   ]
  },
  {
   "cell_type": "code",
   "execution_count": null,
   "id": "9a37d912",
   "metadata": {},
   "outputs": [],
   "source": []
  }
 ],
 "metadata": {
  "kernelspec": {
   "display_name": "Python 3",
   "language": "python",
   "name": "python3"
  },
  "language_info": {
   "codemirror_mode": {
    "name": "ipython",
    "version": 3
   },
   "file_extension": ".py",
   "mimetype": "text/x-python",
   "name": "python",
   "nbconvert_exporter": "python",
   "pygments_lexer": "ipython3",
   "version": "3.8.8"
  }
 },
 "nbformat": 4,
 "nbformat_minor": 5
}
